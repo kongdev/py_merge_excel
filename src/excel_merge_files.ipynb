{
 "cells": [
  {
   "cell_type": "code",
   "execution_count": 107,
   "id": "7814b97e",
   "metadata": {},
   "outputs": [],
   "source": [
    "import pandas as pd\n",
    "import os\n",
    "import glob\n",
    "import warnings\n",
    "warnings.simplefilter(action='ignore', category=FutureWarning)\n",
    "path = \"./excel_content/firster_date/\"\n"
   ]
  },
  {
   "cell_type": "code",
   "execution_count": 108,
   "id": "3bc54266",
   "metadata": {},
   "outputs": [
    {
     "name": "stdout",
     "output_type": "stream",
     "text": [
      "loading file: ./excel_content/firster_date/b1/file1.xlsx\n",
      "loading file: ./excel_content/firster_date/b2/file1 (1).xlsx\n",
      "loading file: ./excel_content/firster_date/b2/file2.xlsx\n",
      "Done :  ./excel_content/firster_date/output.xlsx\n"
     ]
    }
   ],
   "source": [
    "excl_list = []\n",
    "brand_dir = [b for b in os.listdir(path)]\n",
    "for brand_name in brand_dir:\n",
    "    excel_file = os.path.join( path, brand_name )\n",
    "    if(os.path.isdir(excel_file)):\n",
    "        files = [f for f in os.listdir(excel_file) if f.endswith('.xlsx')]\n",
    "      \n",
    "        for filename in files :\n",
    "            excel_file = os.path.join( path, brand_name ,filename)\n",
    "            print('loading file:',excel_file)\n",
    "            excl_list.append(pd.read_excel(excel_file))\n",
    "\n",
    "            \n",
    "        excl_merged = pd.DataFrame()\n",
    "        for excl_file in excl_list:\n",
    "            excl_merged = excl_merged.append(\n",
    "            excl_file, ignore_index=True)   \n",
    "            \n",
    "            \n",
    "        output_file = os.path.join(path,'output.xlsx')\n",
    "        excl_merged.to_excel(output_file, index=False)\n",
    "print('Done : ',output_file)\n",
    "                       \n",
    "          \n"
   ]
  },
  {
   "cell_type": "code",
   "execution_count": null,
   "id": "caf2d15a",
   "metadata": {},
   "outputs": [],
   "source": []
  },
  {
   "cell_type": "code",
   "execution_count": null,
   "id": "2a1df24c",
   "metadata": {},
   "outputs": [],
   "source": []
  },
  {
   "cell_type": "code",
   "execution_count": null,
   "id": "fd4e4f08",
   "metadata": {},
   "outputs": [],
   "source": []
  },
  {
   "cell_type": "code",
   "execution_count": null,
   "id": "c8a4f21a",
   "metadata": {},
   "outputs": [],
   "source": []
  },
  {
   "cell_type": "code",
   "execution_count": null,
   "id": "0b4d3e58",
   "metadata": {},
   "outputs": [],
   "source": []
  },
  {
   "cell_type": "code",
   "execution_count": null,
   "id": "1fab5717",
   "metadata": {},
   "outputs": [],
   "source": []
  }
 ],
 "metadata": {
  "kernelspec": {
   "display_name": "Python 3 (ipykernel)",
   "language": "python",
   "name": "python3"
  },
  "language_info": {
   "codemirror_mode": {
    "name": "ipython",
    "version": 3
   },
   "file_extension": ".py",
   "mimetype": "text/x-python",
   "name": "python",
   "nbconvert_exporter": "python",
   "pygments_lexer": "ipython3",
   "version": "3.10.4"
  }
 },
 "nbformat": 4,
 "nbformat_minor": 5
}
