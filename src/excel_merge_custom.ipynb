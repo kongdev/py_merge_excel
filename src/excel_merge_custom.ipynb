{
 "cells": [
  {
   "cell_type": "code",
   "execution_count": 16,
   "id": "8902ac16",
   "metadata": {},
   "outputs": [],
   "source": [
    "import pandas as pd\n",
    "import os\n",
    "import glob\n",
    "import warnings\n",
    "warnings.simplefilter(action='ignore', category=FutureWarning)\n",
    "warnings.filterwarnings('ignore', category=UserWarning, module='openpyxl')"
   ]
  },
  {
   "cell_type": "code",
   "execution_count": 17,
   "id": "2f4c8523",
   "metadata": {},
   "outputs": [],
   "source": [
    "selectCols = 'A,B,D,E,G,L,AK,AL'\n",
    "renameCols = ['kong1','kong2','kong3','kong4','kong5','kong6','kong7','ก้อง8']\n",
    "\n",
    "path = \"./excel_share/date/\"\n",
    "outputFile = \"ooooutput.xlsx\""
   ]
  },
  {
   "cell_type": "code",
   "execution_count": 18,
   "id": "e4f96854",
   "metadata": {},
   "outputs": [
    {
     "name": "stdout",
     "output_type": "stream",
     "text": [
      "loading file: ./excel_share/date/b1/FIRSTER Beauty __ Upload template 023 (19112021)_MEDILEEN (NPD).xlsx\n",
      "loading file: ./excel_share/date/b2/FIRSTER Beauty __ Upload template 023 (19112021)_MEDILEEN (NPD).xlsx\n",
      "loading file: ./excel_share/date/b3/FIRSTER Beauty __ Upload template 023 (19112021)_MEDILEEN (NPD).xlsx\n",
      "Done export At:  ./excel_share/date/ooooutput.xlsx\n"
     ]
    }
   ],
   "source": [
    "excl_list = []\n",
    "brand_dir = [b for b in os.listdir(path)]\n",
    "for brand_name in brand_dir:\n",
    "    excel_file = os.path.join( path, brand_name )\n",
    "    if(os.path.isdir(excel_file)):\n",
    "        files = [f for f in os.listdir(excel_file) if f.endswith('.xlsx')]\n",
    "        \n",
    "        for filename in files :\n",
    "            excel_file = os.path.join( path, brand_name ,filename)\n",
    "            print('loading file:',excel_file)\n",
    "            excl_list.append(pd.read_excel(excel_file,sheet_name=0,usecols=selectCols,skiprows=1,names=renameCols))\n",
    "        \n",
    "        \n",
    "        excl_merged = pd.DataFrame()\n",
    "        for excl_file in excl_list:\n",
    "            excl_merged = excl_merged.append(\n",
    "            excl_file, ignore_index=True) \n",
    "            \n",
    "        output_file = os.path.join(path,outputFile)\n",
    "        excl_merged.to_excel(output_file, index=False)\n",
    "print('Done export At: ',output_file)\n",
    "            "
   ]
  },
  {
   "cell_type": "code",
   "execution_count": null,
   "id": "12bc7518",
   "metadata": {},
   "outputs": [],
   "source": []
  }
 ],
 "metadata": {
  "kernelspec": {
   "display_name": "Python 3 (ipykernel)",
   "language": "python",
   "name": "python3"
  },
  "language_info": {
   "codemirror_mode": {
    "name": "ipython",
    "version": 3
   },
   "file_extension": ".py",
   "mimetype": "text/x-python",
   "name": "python",
   "nbconvert_exporter": "python",
   "pygments_lexer": "ipython3",
   "version": "3.10.4"
  }
 },
 "nbformat": 4,
 "nbformat_minor": 5
}
