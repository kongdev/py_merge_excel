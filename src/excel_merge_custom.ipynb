{
 "cells": [
  {
   "cell_type": "code",
   "execution_count": 4,
   "id": "daad174d",
   "metadata": {},
   "outputs": [],
   "source": [
    "import pandas as pd\n",
    "import os\n",
    "import warnings\n",
    "warnings.simplefilter(action='ignore', category=FutureWarning)\n",
    "warnings.filterwarnings('ignore', category=UserWarning, module='openpyxl')"
   ]
  },
  {
   "cell_type": "code",
   "execution_count": 15,
   "id": "d5ffa0f3",
   "metadata": {},
   "outputs": [],
   "source": [
    "path = \"./excel_lifestyle/F1RSTER LIFESTYLE - 211108016/\"\n",
    "selectCols = 'A,D,M'\n",
    "renameCols = ['column1','column2','column3']\n",
    "fileFormats = ('.xlsx','.xlsb')\n",
    "outputFile = \"output_file.xlsx\"\n",
    "skiprows = 1\n",
    "sheetName = 0"
   ]
  },
  {
   "cell_type": "code",
   "execution_count": 16,
   "id": "87c4f628",
   "metadata": {},
   "outputs": [
    {
     "name": "stdout",
     "output_type": "stream",
     "text": [
      "Start :\n",
      "[]\n",
      "['FIRSTER Beauty __ Upload template 023 (19112021)_MEDILEEN (NPD).xlsx']\n",
      "['FIRSTER Beauty __ Upload template 023 (19112021)_MEDILEEN (NPD).xlsx']\n",
      "['FIRSTER Beauty __ Upload template 023 (19112021)_MEDILEEN (NPD).xlsx']\n"
     ]
    }
   ],
   "source": [
    "brand_dir = [b for b in os.listdir(path)]\n",
    "excl_list = []\n",
    "print('Start :')\n",
    "for brand_name in brand_dir:\n",
    "    excel_file = os.path.join( path, brand_name )\n",
    "    if(os.path.isdir(excel_file)):\n",
    "        files = [f for f in os.listdir(excel_file) if f.endswith(fileFormats) if not f.startswith('~$')]\n",
    "        for filename in files :\n",
    "            excel_file = os.path.join( path, brand_name ,filename)\n",
    "            print('loading file:',excel_file)\n",
    "            excl_list.append(pd.read_excel(excel_file,sheet_name=sheetName,usecols=selectCols,skiprows=skiprows,names=renameCols))\n",
    "\n",
    "\n",
    "        excl_merged = pd.DataFrame()\n",
    "        for excl_file in excl_list:\n",
    "            excl_merged = excl_merged.append(\n",
    "            excl_file, ignore_index=True) \n",
    "\n",
    "        output_file = os.path.join(path,outputFile)\n",
    "        excl_merged.to_excel(output_file, index=False)\n",
    "print('Done Export At: ',output_file)"
   ]
  },
  {
   "cell_type": "code",
   "execution_count": null,
   "id": "29b05eff",
   "metadata": {},
   "outputs": [],
   "source": []
  }
 ],
 "metadata": {
  "kernelspec": {
   "display_name": "Python 3 (ipykernel)",
   "language": "python",
   "name": "python3"
  },
  "language_info": {
   "codemirror_mode": {
    "name": "ipython",
    "version": 3
   },
   "file_extension": ".py",
   "mimetype": "text/x-python",
   "name": "python",
   "nbconvert_exporter": "python",
   "pygments_lexer": "ipython3",
   "version": "3.10.4"
  },
  "widgets": {
   "application/vnd.jupyter.widget-state+json": {
    "state": {},
    "version_major": 2,
    "version_minor": 0
   }
  }
 },
 "nbformat": 4,
 "nbformat_minor": 5
}
